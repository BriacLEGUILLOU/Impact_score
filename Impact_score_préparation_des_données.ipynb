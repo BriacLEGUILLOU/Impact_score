{
  "nbformat": 4,
  "nbformat_minor": 0,
  "metadata": {
    "colab": {
      "name": "Impact score: préparation des données.ipynb",
      "provenance": [],
      "collapsed_sections": [
        "NMlwY5U9YF9j",
        "yE4B3iQzRGyE",
        "ZM9KjHcQRVsz",
        "2F6UWODjmIsl"
      ],
      "include_colab_link": true
    },
    "kernelspec": {
      "display_name": "Python 3",
      "name": "python3"
    }
  },
  "cells": [
    {
      "cell_type": "markdown",
      "metadata": {
        "id": "view-in-github",
        "colab_type": "text"
      },
      "source": [
        "<a href=\"https://colab.research.google.com/github/BriacLEGUILLOU/Impact_score/blob/master/Impact_score_pr%C3%A9paration_des_donn%C3%A9es.ipynb\" target=\"_parent\"><img src=\"https://colab.research.google.com/assets/colab-badge.svg\" alt=\"Open In Colab\"/></a>"
      ]
    },
    {
      "cell_type": "code",
      "metadata": {
        "colab": {
          "base_uri": "https://localhost:8080/"
        },
        "id": "qufSPpIQQkN0",
        "outputId": "cf73891f-2bd9-4038-f507-66192e70777f"
      },
      "source": [
        "# Mounting Google Drive\n",
        "from google.colab import drive\n",
        "drive.mount(\"/content/gdrive\")"
      ],
      "execution_count": null,
      "outputs": [
        {
          "output_type": "stream",
          "text": [
            "Drive already mounted at /content/gdrive; to attempt to forcibly remount, call drive.mount(\"/content/gdrive\", force_remount=True).\n"
          ],
          "name": "stdout"
        }
      ]
    },
    {
      "cell_type": "code",
      "metadata": {
        "colab": {
          "base_uri": "https://localhost:8080/",
          "height": 206
        },
        "id": "g0aehUcEUKYc",
        "outputId": "0f6c439a-da5d-4ea0-cc25-588620ddeb32"
      },
      "source": [
        "import pandas as pd\n",
        "\n",
        "# Load of bundle\n",
        "chemin = '/content/gdrive/My Drive/Impact Score/Données partagées pour Impact Score/Autre données/'\n",
        "bundle_raw = pd.read_csv(chemin + 'bundle.csv', sep=';', header=None,  index_col=False, names =['siren', 'year', 'accountability', 'bundle','amount'])\n",
        "bundle_raw.head()"
      ],
      "execution_count": null,
      "outputs": [
        {
          "output_type": "execute_result",
          "data": {
            "text/html": [
              "<div>\n",
              "<style scoped>\n",
              "    .dataframe tbody tr th:only-of-type {\n",
              "        vertical-align: middle;\n",
              "    }\n",
              "\n",
              "    .dataframe tbody tr th {\n",
              "        vertical-align: top;\n",
              "    }\n",
              "\n",
              "    .dataframe thead th {\n",
              "        text-align: right;\n",
              "    }\n",
              "</style>\n",
              "<table border=\"1\" class=\"dataframe\">\n",
              "  <thead>\n",
              "    <tr style=\"text-align: right;\">\n",
              "      <th></th>\n",
              "      <th>siren</th>\n",
              "      <th>year</th>\n",
              "      <th>accountability</th>\n",
              "      <th>bundle</th>\n",
              "      <th>amount</th>\n",
              "    </tr>\n",
              "  </thead>\n",
              "  <tbody>\n",
              "    <tr>\n",
              "      <th>0</th>\n",
              "      <td>5420120</td>\n",
              "      <td>2016</td>\n",
              "      <td>0</td>\n",
              "      <td>10</td>\n",
              "      <td>781843</td>\n",
              "    </tr>\n",
              "    <tr>\n",
              "      <th>1</th>\n",
              "      <td>5420120</td>\n",
              "      <td>2016</td>\n",
              "      <td>0</td>\n",
              "      <td>1</td>\n",
              "      <td>11836</td>\n",
              "    </tr>\n",
              "    <tr>\n",
              "      <th>2</th>\n",
              "      <td>5420120</td>\n",
              "      <td>2016</td>\n",
              "      <td>0</td>\n",
              "      <td>13</td>\n",
              "      <td>27644</td>\n",
              "    </tr>\n",
              "    <tr>\n",
              "      <th>3</th>\n",
              "      <td>5420120</td>\n",
              "      <td>2016</td>\n",
              "      <td>0</td>\n",
              "      <td>15</td>\n",
              "      <td>866430</td>\n",
              "    </tr>\n",
              "    <tr>\n",
              "      <th>4</th>\n",
              "      <td>5420120</td>\n",
              "      <td>2016</td>\n",
              "      <td>0</td>\n",
              "      <td>16</td>\n",
              "      <td>214907</td>\n",
              "    </tr>\n",
              "  </tbody>\n",
              "</table>\n",
              "</div>"
            ],
            "text/plain": [
              "     siren  year  accountability  bundle  amount\n",
              "0  5420120  2016               0      10  781843\n",
              "1  5420120  2016               0       1   11836\n",
              "2  5420120  2016               0      13   27644\n",
              "3  5420120  2016               0      15  866430\n",
              "4  5420120  2016               0      16  214907"
            ]
          },
          "metadata": {
            "tags": []
          },
          "execution_count": 9
        }
      ]
    },
    {
      "cell_type": "markdown",
      "metadata": {
        "id": "NMlwY5U9YF9j"
      },
      "source": [
        "# 1 Mise en forme des données"
      ]
    },
    {
      "cell_type": "code",
      "metadata": {
        "id": "mQC4GJskQanR"
      },
      "source": [
        "import numpy as np\n",
        "import matplotlib.pyplot as plt\n",
        "import seaborn as sns\n",
        "import math\n",
        "pd.set_option('display.max_rows', 60)"
      ],
      "execution_count": null,
      "outputs": []
    },
    {
      "cell_type": "code",
      "metadata": {
        "id": "UoGwDKymd-7y"
      },
      "source": [
        "def obtention_log10(val):\n",
        "  \"\"\" Permet de convertir un nombre de la façon suivante : 100000 devient 5 et -100 devient -2 \"\"\"\n",
        "  if val == np.nan: return np.nan\n",
        "  elif (isinstance(val, float)) or (isinstance(val, int)):\n",
        "    signe, nb = np.sign(val), np.absolute(val)\n",
        "    if nb < 1: return 0\n",
        "    else : return math.log10(nb) * signe\n",
        "  else: return val\n",
        "\n",
        "def filtre(df, col, filtre):\n",
        "  \"\"\" Renvoie les entreprises contenant le filtre dans une colonne \"\"\"\n",
        "  return df[col].str.contains(filtre, case=False, na=False)\n",
        "\n",
        "def division_colonnes(num, den):\n",
        "  \"\"\" Cette fonction permet de diviser 2 colonnes \"\"\"\n",
        "\n",
        "  if (num == 0): # numérateur nul\n",
        "    return 0\n",
        "  elif den != 0:  # attention aux divisions par zéro\n",
        "    return num / den\n",
        "  else :\n",
        "    return np.nan\n",
        "\n",
        "def pos_neg(valeur):\n",
        "  \"\"\" Renvoie la positif ou négatif pour la colonne sélectionnée \"\"\"\n",
        "  if (isinstance(valeur, float)) or (isinstance(valeur, int)):\n",
        "    if valeur > 0:\n",
        "      return '>0'\n",
        "    elif valeur < 0:\n",
        "      return '<0'\n",
        "    else:\n",
        "      return '=0'\n",
        "  return ''"
      ],
      "execution_count": null,
      "outputs": []
    },
    {
      "cell_type": "code",
      "metadata": {
        "id": "NEW7vdDHYO0q"
      },
      "source": [
        "# Identification des doublons\n",
        "# bundle_raw[bundle_raw.duplicated(subset=['siren', 'year', 'accountability', 'bundle'], keep='first')]"
      ],
      "execution_count": null,
      "outputs": []
    },
    {
      "cell_type": "code",
      "metadata": {
        "id": "qciYfAxrQsWc",
        "colab": {
          "base_uri": "https://localhost:8080/",
          "height": 206
        },
        "outputId": "7a7d5940-c6e8-4276-c2c2-88b2dbba6f35"
      },
      "source": [
        "# On sélectionne uniquement les CR annuel complet, et on élimine certains doublons\n",
        "bundle_raw = bundle_raw.loc[bundle_raw['accountability'] == 0,:].drop_duplicates(subset=['siren', 'year', 'accountability', 'bundle'], keep='first')\n",
        "bundle_raw.head()"
      ],
      "execution_count": null,
      "outputs": [
        {
          "output_type": "execute_result",
          "data": {
            "text/html": [
              "<div>\n",
              "<style scoped>\n",
              "    .dataframe tbody tr th:only-of-type {\n",
              "        vertical-align: middle;\n",
              "    }\n",
              "\n",
              "    .dataframe tbody tr th {\n",
              "        vertical-align: top;\n",
              "    }\n",
              "\n",
              "    .dataframe thead th {\n",
              "        text-align: right;\n",
              "    }\n",
              "</style>\n",
              "<table border=\"1\" class=\"dataframe\">\n",
              "  <thead>\n",
              "    <tr style=\"text-align: right;\">\n",
              "      <th></th>\n",
              "      <th>siren</th>\n",
              "      <th>year</th>\n",
              "      <th>accountability</th>\n",
              "      <th>bundle</th>\n",
              "      <th>amount</th>\n",
              "    </tr>\n",
              "  </thead>\n",
              "  <tbody>\n",
              "    <tr>\n",
              "      <th>0</th>\n",
              "      <td>5420120</td>\n",
              "      <td>2016</td>\n",
              "      <td>0</td>\n",
              "      <td>10</td>\n",
              "      <td>781843</td>\n",
              "    </tr>\n",
              "    <tr>\n",
              "      <th>1</th>\n",
              "      <td>5420120</td>\n",
              "      <td>2016</td>\n",
              "      <td>0</td>\n",
              "      <td>1</td>\n",
              "      <td>11836</td>\n",
              "    </tr>\n",
              "    <tr>\n",
              "      <th>2</th>\n",
              "      <td>5420120</td>\n",
              "      <td>2016</td>\n",
              "      <td>0</td>\n",
              "      <td>13</td>\n",
              "      <td>27644</td>\n",
              "    </tr>\n",
              "    <tr>\n",
              "      <th>3</th>\n",
              "      <td>5420120</td>\n",
              "      <td>2016</td>\n",
              "      <td>0</td>\n",
              "      <td>15</td>\n",
              "      <td>866430</td>\n",
              "    </tr>\n",
              "    <tr>\n",
              "      <th>4</th>\n",
              "      <td>5420120</td>\n",
              "      <td>2016</td>\n",
              "      <td>0</td>\n",
              "      <td>16</td>\n",
              "      <td>214907</td>\n",
              "    </tr>\n",
              "  </tbody>\n",
              "</table>\n",
              "</div>"
            ],
            "text/plain": [
              "     siren  year  accountability  bundle  amount\n",
              "0  5420120  2016               0      10  781843\n",
              "1  5420120  2016               0       1   11836\n",
              "2  5420120  2016               0      13   27644\n",
              "3  5420120  2016               0      15  866430\n",
              "4  5420120  2016               0      16  214907"
            ]
          },
          "metadata": {
            "tags": []
          },
          "execution_count": 11
        }
      ]
    },
    {
      "cell_type": "code",
      "metadata": {
        "colab": {
          "base_uri": "https://localhost:8080/",
          "height": 424
        },
        "id": "DMHZoH0xQy5H",
        "outputId": "4415769e-ac7a-4b10-d8ee-00ea9f9961e3"
      },
      "source": [
        "# On charge le nom des colonnes\n",
        "ontology = pd.read_json('http://api.enthic.fr/company/ontology')\n",
        "\n",
        "# Création d'un dataframe contenant les colonnes de chaque type de bilan\n",
        "df_col = pd.DataFrame(columns=[ontology.loc[i,:].iloc[0].get(\"1\") for i in range(4)]+\n",
        "                      ['liasse '+ ontology.loc[i,:].iloc[0].get(\"1\") for i in range(4)],\n",
        "                               index=range(68))\n",
        "\n",
        "# Lecture de tous les colonnes du compte de résultat complet\n",
        "for type_bilan in range(4):\n",
        "    dictionnaire = ontology.loc[type_bilan,:].iloc[0].get(\"code\")\n",
        "    nb_col = len(dictionnaire)\n",
        "    \n",
        "    for i in range(nb_col):\n",
        "        df_col.iloc[i,type_bilan] = dictionnaire.get(str(i)).get(\"1\")\n",
        "        df_col.iloc[i,type_bilan+4] = dictionnaire.get(str(i)).get(\"0\")\n",
        "  \n",
        "col_CR_complet = df_col.loc[:,['Compte annuel complet','liasse Compte annuel complet']]\n",
        "col_CR_complet.to_csv(chemin + 'col_CR_complet.csv')\n",
        "col_CR_complet"
      ],
      "execution_count": null,
      "outputs": [
        {
          "output_type": "execute_result",
          "data": {
            "text/html": [
              "<div>\n",
              "<style scoped>\n",
              "    .dataframe tbody tr th:only-of-type {\n",
              "        vertical-align: middle;\n",
              "    }\n",
              "\n",
              "    .dataframe tbody tr th {\n",
              "        vertical-align: top;\n",
              "    }\n",
              "\n",
              "    .dataframe thead th {\n",
              "        text-align: right;\n",
              "    }\n",
              "</style>\n",
              "<table border=\"1\" class=\"dataframe\">\n",
              "  <thead>\n",
              "    <tr style=\"text-align: right;\">\n",
              "      <th></th>\n",
              "      <th>Compte annuel complet</th>\n",
              "      <th>liasse Compte annuel complet</th>\n",
              "    </tr>\n",
              "  </thead>\n",
              "  <tbody>\n",
              "    <tr>\n",
              "      <th>0</th>\n",
              "      <td>Autres impôts, taxes et versements assimilés</td>\n",
              "      <td>9Z</td>\n",
              "    </tr>\n",
              "    <tr>\n",
              "      <th>1</th>\n",
              "      <td>Ventes de marchandises</td>\n",
              "      <td>FA</td>\n",
              "    </tr>\n",
              "    <tr>\n",
              "      <th>2</th>\n",
              "      <td>Production vendue biens</td>\n",
              "      <td>FD</td>\n",
              "    </tr>\n",
              "    <tr>\n",
              "      <th>3</th>\n",
              "      <td>Production vendue services</td>\n",
              "      <td>FG</td>\n",
              "    </tr>\n",
              "    <tr>\n",
              "      <th>4</th>\n",
              "      <td>Chiffres d’affaires nets</td>\n",
              "      <td>FJ</td>\n",
              "    </tr>\n",
              "    <tr>\n",
              "      <th>...</th>\n",
              "      <td>...</td>\n",
              "      <td>...</td>\n",
              "    </tr>\n",
              "    <tr>\n",
              "      <th>63</th>\n",
              "      <td>Rétrocessions d’honoraires, commissions et cou...</td>\n",
              "      <td>YV</td>\n",
              "    </tr>\n",
              "    <tr>\n",
              "      <th>64</th>\n",
              "      <td>Taxe professionnelle</td>\n",
              "      <td>YW</td>\n",
              "    </tr>\n",
              "    <tr>\n",
              "      <th>65</th>\n",
              "      <td>Montant de la TVA. collectée</td>\n",
              "      <td>YY</td>\n",
              "    </tr>\n",
              "    <tr>\n",
              "      <th>66</th>\n",
              "      <td>Total TVA. déductible sur biens et services</td>\n",
              "      <td>YZ</td>\n",
              "    </tr>\n",
              "    <tr>\n",
              "      <th>67</th>\n",
              "      <td>Dividendes</td>\n",
              "      <td>ZE</td>\n",
              "    </tr>\n",
              "  </tbody>\n",
              "</table>\n",
              "<p>68 rows × 2 columns</p>\n",
              "</div>"
            ],
            "text/plain": [
              "                                Compte annuel complet liasse Compte annuel complet\n",
              "0        Autres impôts, taxes et versements assimilés                           9Z\n",
              "1                              Ventes de marchandises                           FA\n",
              "2                             Production vendue biens                           FD\n",
              "3                          Production vendue services                           FG\n",
              "4                            Chiffres d’affaires nets                           FJ\n",
              "..                                                ...                          ...\n",
              "63  Rétrocessions d’honoraires, commissions et cou...                           YV\n",
              "64                               Taxe professionnelle                           YW\n",
              "65                       Montant de la TVA. collectée                           YY\n",
              "66        Total TVA. déductible sur biens et services                           YZ\n",
              "67                                         Dividendes                           ZE\n",
              "\n",
              "[68 rows x 2 columns]"
            ]
          },
          "metadata": {
            "tags": []
          },
          "execution_count": 12
        }
      ]
    },
    {
      "cell_type": "code",
      "metadata": {
        "id": "GZRI0Aq_Qwe9",
        "colab": {
          "base_uri": "https://localhost:8080/"
        },
        "outputId": "bf27e799-a843-4b89-b13c-0d7d7fac0f3b"
      },
      "source": [
        "# On transforme la structure des données\n",
        "bundle = pd.DataFrame(columns = ['year'] + list(range(0, 68)))\n",
        "for year in sorted(bundle_raw['year'].unique()):\n",
        "    bundle_year = bundle_raw.loc[bundle_raw['year']==year,:].pivot(index='siren', columns='bundle', values='amount')\n",
        "    bundle_year['year'] = year\n",
        "    bundle = pd.concat([bundle,bundle_year])\n",
        "\n",
        "\n",
        "bundle = bundle.astype(float)\n",
        "\n",
        "bundle.columns = ['year'] + list(col_CR_complet['Compte annuel complet'])\n",
        "bundle['siren'] = bundle.index\n",
        "print(bundle)\n",
        "# La nouvelle forme des données est [111013 rows x 68 columns] = 7M de celulles\n",
        "# L'ancienne forme des données était [3000000 rows x 5 columns] = 15M de cellules"
      ],
      "execution_count": null,
      "outputs": [
        {
          "output_type": "stream",
          "text": [
            "             year  ...      siren\n",
            "414381475  1919.0  ...  414381475\n",
            "420210577  2007.0  ...  420210577\n",
            "527710172  2008.0  ...  527710172\n",
            "420210577  2009.0  ...  420210577\n",
            "492952080  2009.0  ...  492952080\n",
            "...           ...  ...        ...\n",
            "998308415  2019.0  ...  998308415\n",
            "998358303  2019.0  ...  998358303\n",
            "998541502  2019.0  ...  998541502\n",
            "998893408  2019.0  ...  998893408\n",
            "998912703  2019.0  ...  998912703\n",
            "\n",
            "[1294936 rows x 70 columns]\n"
          ],
          "name": "stdout"
        }
      ]
    },
    {
      "cell_type": "markdown",
      "metadata": {
        "id": "yE4B3iQzRGyE"
      },
      "source": [
        "# 2. Chargement et préparation de ape, identity, ess"
      ]
    },
    {
      "cell_type": "code",
      "metadata": {
        "id": "X0w1QL8sQ1EG",
        "colab": {
          "base_uri": "https://localhost:8080/"
        },
        "outputId": "f674e40e-ca1e-4d2e-850b-4e7f54a1f62a"
      },
      "source": [
        "# Chargement et préparation de APE\n",
        "ape = pd.read_json('http://api.enthic.fr/company/ape').transpose()\n",
        "ape.columns = ['ape', 'ape_name']\n",
        "ape['ape_len'] = ape['ape'].apply(lambda x: len(x))\n",
        "\n",
        "ape['ape_len'].value_counts()"
      ],
      "execution_count": null,
      "outputs": [
        {
          "output_type": "execute_result",
          "data": {
            "text/plain": [
              "5    732\n",
              "4    562\n",
              "3    290\n",
              "2     89\n",
              "Name: ape_len, dtype: int64"
            ]
          },
          "metadata": {
            "tags": []
          },
          "execution_count": 14
        }
      ]
    },
    {
      "cell_type": "code",
      "metadata": {
        "id": "4wEVzYBJ3c46",
        "colab": {
          "base_uri": "https://localhost:8080/",
          "height": 424
        },
        "outputId": "90b1d497-3cff-4f01-f874-9daa1572e3ed"
      },
      "source": [
        "# Définition des catégories des ape\n",
        "def get_cat(string, num):\n",
        "  \"\"\" permet d'obtenir la catégorie de l'APE\"\"\"\n",
        "  string = str(string)\n",
        "  assert isinstance(string, str)\n",
        "  if num == 0:\n",
        "    return string[0:2]\n",
        "  elif len(string) > num+1:\n",
        "    return string[num+1]\n",
        "  else :\n",
        "    return ''\n",
        "\n",
        "for i in range(5):\n",
        "  ape['ape_cat' + str(i)] = ape['ape'].apply(lambda x: get_cat(x, i))\n",
        "\n",
        "ape['enthic'] = ape.index\n",
        "ape"
      ],
      "execution_count": null,
      "outputs": [
        {
          "output_type": "execute_result",
          "data": {
            "text/html": [
              "<div>\n",
              "<style scoped>\n",
              "    .dataframe tbody tr th:only-of-type {\n",
              "        vertical-align: middle;\n",
              "    }\n",
              "\n",
              "    .dataframe tbody tr th {\n",
              "        vertical-align: top;\n",
              "    }\n",
              "\n",
              "    .dataframe thead th {\n",
              "        text-align: right;\n",
              "    }\n",
              "</style>\n",
              "<table border=\"1\" class=\"dataframe\">\n",
              "  <thead>\n",
              "    <tr style=\"text-align: right;\">\n",
              "      <th></th>\n",
              "      <th>ape</th>\n",
              "      <th>ape_name</th>\n",
              "      <th>ape_len</th>\n",
              "      <th>ape_cat0</th>\n",
              "      <th>ape_cat1</th>\n",
              "      <th>ape_cat2</th>\n",
              "      <th>ape_cat3</th>\n",
              "      <th>ape_cat4</th>\n",
              "      <th>enthic</th>\n",
              "    </tr>\n",
              "  </thead>\n",
              "  <tbody>\n",
              "    <tr>\n",
              "      <th>0</th>\n",
              "      <td>1020Z</td>\n",
              "      <td>Transform. &amp; conserv. poisson, crustacés &amp; mol...</td>\n",
              "      <td>5</td>\n",
              "      <td>10</td>\n",
              "      <td>2</td>\n",
              "      <td>0</td>\n",
              "      <td>Z</td>\n",
              "      <td></td>\n",
              "      <td>0</td>\n",
              "    </tr>\n",
              "    <tr>\n",
              "      <th>1</th>\n",
              "      <td>812</td>\n",
              "      <td>Activités de nettoyage</td>\n",
              "      <td>3</td>\n",
              "      <td>81</td>\n",
              "      <td>2</td>\n",
              "      <td></td>\n",
              "      <td></td>\n",
              "      <td></td>\n",
              "      <td>1</td>\n",
              "    </tr>\n",
              "    <tr>\n",
              "      <th>2</th>\n",
              "      <td>1610B</td>\n",
              "      <td>Imprégnation du bois</td>\n",
              "      <td>5</td>\n",
              "      <td>16</td>\n",
              "      <td>1</td>\n",
              "      <td>0</td>\n",
              "      <td>B</td>\n",
              "      <td></td>\n",
              "      <td>2</td>\n",
              "    </tr>\n",
              "    <tr>\n",
              "      <th>3</th>\n",
              "      <td>0910Z</td>\n",
              "      <td>Activités de soutien à l'extraction d'hydrocar...</td>\n",
              "      <td>5</td>\n",
              "      <td>09</td>\n",
              "      <td>1</td>\n",
              "      <td>0</td>\n",
              "      <td>Z</td>\n",
              "      <td></td>\n",
              "      <td>3</td>\n",
              "    </tr>\n",
              "    <tr>\n",
              "      <th>4</th>\n",
              "      <td>7420Z</td>\n",
              "      <td>Activités photographiques</td>\n",
              "      <td>5</td>\n",
              "      <td>74</td>\n",
              "      <td>2</td>\n",
              "      <td>0</td>\n",
              "      <td>Z</td>\n",
              "      <td></td>\n",
              "      <td>4</td>\n",
              "    </tr>\n",
              "    <tr>\n",
              "      <th>...</th>\n",
              "      <td>...</td>\n",
              "      <td>...</td>\n",
              "      <td>...</td>\n",
              "      <td>...</td>\n",
              "      <td>...</td>\n",
              "      <td>...</td>\n",
              "      <td>...</td>\n",
              "      <td>...</td>\n",
              "      <td>...</td>\n",
              "    </tr>\n",
              "    <tr>\n",
              "      <th>1668</th>\n",
              "      <td>2051</td>\n",
              "      <td>Fabrication de produits explosifs</td>\n",
              "      <td>4</td>\n",
              "      <td>20</td>\n",
              "      <td>5</td>\n",
              "      <td>1</td>\n",
              "      <td></td>\n",
              "      <td></td>\n",
              "      <td>1668</td>\n",
              "    </tr>\n",
              "    <tr>\n",
              "      <th>1669</th>\n",
              "      <td>1431</td>\n",
              "      <td>Fabrication d'articles chaussants à mailles</td>\n",
              "      <td>4</td>\n",
              "      <td>14</td>\n",
              "      <td>3</td>\n",
              "      <td>1</td>\n",
              "      <td></td>\n",
              "      <td></td>\n",
              "      <td>1669</td>\n",
              "    </tr>\n",
              "    <tr>\n",
              "      <th>1670</th>\n",
              "      <td>9525</td>\n",
              "      <td>Réparation d'articles d'horlogerie et de bijou...</td>\n",
              "      <td>4</td>\n",
              "      <td>95</td>\n",
              "      <td>2</td>\n",
              "      <td>5</td>\n",
              "      <td></td>\n",
              "      <td></td>\n",
              "      <td>1670</td>\n",
              "    </tr>\n",
              "    <tr>\n",
              "      <th>1671</th>\n",
              "      <td>3211</td>\n",
              "      <td>Frappe de monnaie</td>\n",
              "      <td>4</td>\n",
              "      <td>32</td>\n",
              "      <td>1</td>\n",
              "      <td>1</td>\n",
              "      <td></td>\n",
              "      <td></td>\n",
              "      <td>1671</td>\n",
              "    </tr>\n",
              "    <tr>\n",
              "      <th>1672</th>\n",
              "      <td>0000</td>\n",
              "      <td>Inconnu</td>\n",
              "      <td>4</td>\n",
              "      <td>00</td>\n",
              "      <td>0</td>\n",
              "      <td>0</td>\n",
              "      <td></td>\n",
              "      <td></td>\n",
              "      <td>1672</td>\n",
              "    </tr>\n",
              "  </tbody>\n",
              "</table>\n",
              "<p>1673 rows × 9 columns</p>\n",
              "</div>"
            ],
            "text/plain": [
              "        ape                                           ape_name  ...  ape_cat4 enthic\n",
              "0     1020Z  Transform. & conserv. poisson, crustacés & mol...  ...                0\n",
              "1       812                             Activités de nettoyage  ...                1\n",
              "2     1610B                               Imprégnation du bois  ...                2\n",
              "3     0910Z  Activités de soutien à l'extraction d'hydrocar...  ...                3\n",
              "4     7420Z                          Activités photographiques  ...                4\n",
              "...     ...                                                ...  ...       ...    ...\n",
              "1668   2051                  Fabrication de produits explosifs  ...             1668\n",
              "1669   1431        Fabrication d'articles chaussants à mailles  ...             1669\n",
              "1670   9525  Réparation d'articles d'horlogerie et de bijou...  ...             1670\n",
              "1671   3211                                  Frappe de monnaie  ...             1671\n",
              "1672   0000                                            Inconnu  ...             1672\n",
              "\n",
              "[1673 rows x 9 columns]"
            ]
          },
          "metadata": {
            "tags": []
          },
          "execution_count": 15
        }
      ]
    },
    {
      "cell_type": "code",
      "metadata": {
        "id": "k36IqKc7ROXH",
        "colab": {
          "base_uri": "https://localhost:8080/",
          "height": 459
        },
        "outputId": "9b907c9c-bf87-4122-ce34-dd3fe96a3db8"
      },
      "source": [
        "# Chargement de identity\n",
        "identity = pd.read_csv(chemin + 'identity.csv', sep=';', header=None,  index_col=False, names =['siren', 'denomination', 'enthic', 'postal_code','town'])\n",
        "\n",
        "def numeriser(nombre):\n",
        "  \"\"\" permet de numériser un nombre, si possible \"\"\"\n",
        "  try:\n",
        "    num = int(nombre)\n",
        "    return num\n",
        "  except ValueError:\n",
        "    return ''\n",
        "\n",
        "\n",
        "identity['enthic'] = identity['enthic'].apply(numeriser)\n",
        "identity"
      ],
      "execution_count": null,
      "outputs": [
        {
          "output_type": "stream",
          "text": [
            "/usr/local/lib/python3.6/dist-packages/IPython/core/interactiveshell.py:2718: DtypeWarning: Columns (0,2,5) have mixed types.Specify dtype option on import or set low_memory=False.\n",
            "  interactivity=interactivity, compiler=compiler, result=result)\n"
          ],
          "name": "stderr"
        },
        {
          "output_type": "execute_result",
          "data": {
            "text/html": [
              "<div>\n",
              "<style scoped>\n",
              "    .dataframe tbody tr th:only-of-type {\n",
              "        vertical-align: middle;\n",
              "    }\n",
              "\n",
              "    .dataframe tbody tr th {\n",
              "        vertical-align: top;\n",
              "    }\n",
              "\n",
              "    .dataframe thead th {\n",
              "        text-align: right;\n",
              "    }\n",
              "</style>\n",
              "<table border=\"1\" class=\"dataframe\">\n",
              "  <thead>\n",
              "    <tr style=\"text-align: right;\">\n",
              "      <th></th>\n",
              "      <th>siren</th>\n",
              "      <th>denomination</th>\n",
              "      <th>enthic</th>\n",
              "      <th>postal_code</th>\n",
              "      <th>town</th>\n",
              "    </tr>\n",
              "  </thead>\n",
              "  <tbody>\n",
              "    <tr>\n",
              "      <th>0</th>\n",
              "      <td>5420120</td>\n",
              "      <td>STE DES SUCRERIES DU MARQUENTERRE</td>\n",
              "      <td>362</td>\n",
              "      <td>62140</td>\n",
              "      <td>MARCONNELLE</td>\n",
              "    </tr>\n",
              "    <tr>\n",
              "      <th>1</th>\n",
              "      <td>5450093</td>\n",
              "      <td>SARL BAS ALPINE D AUTOCARS</td>\n",
              "      <td>273</td>\n",
              "      <td>04800</td>\n",
              "      <td>GREOUX LES BAINS</td>\n",
              "    </tr>\n",
              "    <tr>\n",
              "      <th>2</th>\n",
              "      <td>5450119</td>\n",
              "      <td>LE GRAND CAFE ET GASSENDI</td>\n",
              "      <td>1189</td>\n",
              "      <td>04000</td>\n",
              "      <td>DIGNE-LES-BAINS</td>\n",
              "    </tr>\n",
              "    <tr>\n",
              "      <th>3</th>\n",
              "      <td>5520176</td>\n",
              "      <td>HERNAS CARTONNAGES</td>\n",
              "      <td>1300</td>\n",
              "      <td>80210</td>\n",
              "      <td>FEUQUIERES-EN-VIMEU</td>\n",
              "    </tr>\n",
              "    <tr>\n",
              "      <th>4</th>\n",
              "      <td>5520242</td>\n",
              "      <td>PROSPA</td>\n",
              "      <td>1566</td>\n",
              "      <td>80510</td>\n",
              "      <td>LONGPRE-LES-CORPS-SAINTS</td>\n",
              "    </tr>\n",
              "    <tr>\n",
              "      <th>...</th>\n",
              "      <td>...</td>\n",
              "      <td>...</td>\n",
              "      <td>...</td>\n",
              "      <td>...</td>\n",
              "      <td>...</td>\n",
              "    </tr>\n",
              "    <tr>\n",
              "      <th>1598335</th>\n",
              "      <td>999990302</td>\n",
              "      <td>AMUNDI OBLIG INTERNATIONALES</td>\n",
              "      <td>329</td>\n",
              "      <td>75015</td>\n",
              "      <td>PARIS</td>\n",
              "    </tr>\n",
              "    <tr>\n",
              "      <th>1598336</th>\n",
              "      <td>999990369</td>\n",
              "      <td>ECOFI INVESTISSEMENTS</td>\n",
              "      <td>1195</td>\n",
              "      <td>75009</td>\n",
              "      <td>PARIS 9</td>\n",
              "    </tr>\n",
              "    <tr>\n",
              "      <th>1598337</th>\n",
              "      <td>999990542</td>\n",
              "      <td>BARCLAYS DIVERSIFICATION</td>\n",
              "      <td>545</td>\n",
              "      <td>75012</td>\n",
              "      <td>PARIS</td>\n",
              "    </tr>\n",
              "    <tr>\n",
              "      <th>1598338</th>\n",
              "      <td>999990666</td>\n",
              "      <td>ASSU-VIE SOCIETE FRANCAISE D'ASSURANCES SUR LA...</td>\n",
              "      <td>909</td>\n",
              "      <td>75008</td>\n",
              "      <td>PARIS</td>\n",
              "    </tr>\n",
              "    <tr>\n",
              "      <th>1598339</th>\n",
              "      <td>NON RENSE</td>\n",
              "      <td>SOCIETE PARISIENNE DE CONSTRUCTION LELORRAIN B...</td>\n",
              "      <td>989</td>\n",
              "      <td>93400</td>\n",
              "      <td>ST OUEN</td>\n",
              "    </tr>\n",
              "  </tbody>\n",
              "</table>\n",
              "<p>1598340 rows × 5 columns</p>\n",
              "</div>"
            ],
            "text/plain": [
              "             siren  ...                      town\n",
              "0          5420120  ...               MARCONNELLE\n",
              "1          5450093  ...          GREOUX LES BAINS\n",
              "2          5450119  ...           DIGNE-LES-BAINS\n",
              "3          5520176  ...       FEUQUIERES-EN-VIMEU\n",
              "4          5520242  ...  LONGPRE-LES-CORPS-SAINTS\n",
              "...            ...  ...                       ...\n",
              "1598335  999990302  ...                     PARIS\n",
              "1598336  999990369  ...                   PARIS 9\n",
              "1598337  999990542  ...                     PARIS\n",
              "1598338  999990666  ...                     PARIS\n",
              "1598339  NON RENSE  ...                   ST OUEN\n",
              "\n",
              "[1598340 rows x 5 columns]"
            ]
          },
          "metadata": {
            "tags": []
          },
          "execution_count": 16
        }
      ]
    },
    {
      "cell_type": "code",
      "metadata": {
        "id": "gAlJBxdXZiiw",
        "colab": {
          "base_uri": "https://localhost:8080/",
          "height": 493
        },
        "outputId": "33c348a7-e5cd-4516-e62e-1b4a43ca14a6"
      },
      "source": [
        "# Chargement de la liste des entreprises de l'ESS\n",
        "df_ess = pd.read_csv(chemin + 'listeess_ldds_vjuin2020_ok_2.csv', sep=';', encoding='iso8859_16')\n",
        "df_ess.columns = ['ess_' + x for x in df_ess.columns]\n",
        "df_ess['ess'] = True\n",
        "df_ess"
      ],
      "execution_count": null,
      "outputs": [
        {
          "output_type": "execute_result",
          "data": {
            "text/html": [
              "<div>\n",
              "<style scoped>\n",
              "    .dataframe tbody tr th:only-of-type {\n",
              "        vertical-align: middle;\n",
              "    }\n",
              "\n",
              "    .dataframe tbody tr th {\n",
              "        vertical-align: top;\n",
              "    }\n",
              "\n",
              "    .dataframe thead th {\n",
              "        text-align: right;\n",
              "    }\n",
              "</style>\n",
              "<table border=\"1\" class=\"dataframe\">\n",
              "  <thead>\n",
              "    <tr style=\"text-align: right;\">\n",
              "      <th></th>\n",
              "      <th>ess_N° IDENTITE ENTREPRISE (SIREN)</th>\n",
              "      <th>ess_RAISON SOCIALE</th>\n",
              "      <th>ess_ENSEIGNE</th>\n",
              "      <th>ess_SIGLE</th>\n",
              "      <th>ess_CP VILLE</th>\n",
              "      <th>ess_FORME JURIDIQUE</th>\n",
              "      <th>ess</th>\n",
              "    </tr>\n",
              "  </thead>\n",
              "  <tbody>\n",
              "    <tr>\n",
              "      <th>0</th>\n",
              "      <td>5650148</td>\n",
              "      <td>SCIC VALDURANCE HABITAT</td>\n",
              "      <td>NaN</td>\n",
              "      <td>NaN</td>\n",
              "      <td>04000 DIGNE LES BAINS</td>\n",
              "      <td>Autres coopératives</td>\n",
              "      <td>True</td>\n",
              "    </tr>\n",
              "    <tr>\n",
              "      <th>1</th>\n",
              "      <td>5720610</td>\n",
              "      <td>PICARDIE MARITIME HABITAT FONDATION PAUL DUCLERCQ</td>\n",
              "      <td>NaN</td>\n",
              "      <td>NaN</td>\n",
              "      <td>80100 ABBEVILLE</td>\n",
              "      <td>Autres coopératives</td>\n",
              "      <td>True</td>\n",
              "    </tr>\n",
              "    <tr>\n",
              "      <th>2</th>\n",
              "      <td>5781133</td>\n",
              "      <td>IDEA GROUPE</td>\n",
              "      <td>NaN</td>\n",
              "      <td>MTTM</td>\n",
              "      <td>44550 MONTOIR DE BRETAGNE</td>\n",
              "      <td>Sociétés coopératives et participatives (SCOP)</td>\n",
              "      <td>True</td>\n",
              "    </tr>\n",
              "    <tr>\n",
              "      <th>3</th>\n",
              "      <td>5880679</td>\n",
              "      <td>SA COOPERATIVE D'INTERET COLLECTIF POURL'ACCES...</td>\n",
              "      <td>NaN</td>\n",
              "      <td>NaN</td>\n",
              "      <td>44570 TRIGNAC</td>\n",
              "      <td>Autres coopératives</td>\n",
              "      <td>True</td>\n",
              "    </tr>\n",
              "    <tr>\n",
              "      <th>4</th>\n",
              "      <td>6080170</td>\n",
              "      <td>COOP BREIZH</td>\n",
              "      <td>NaN</td>\n",
              "      <td>NaN</td>\n",
              "      <td>29540 SPEZET</td>\n",
              "      <td>Autres coopératives</td>\n",
              "      <td>True</td>\n",
              "    </tr>\n",
              "    <tr>\n",
              "      <th>...</th>\n",
              "      <td>...</td>\n",
              "      <td>...</td>\n",
              "      <td>...</td>\n",
              "      <td>...</td>\n",
              "      <td>...</td>\n",
              "      <td>...</td>\n",
              "      <td>...</td>\n",
              "    </tr>\n",
              "    <tr>\n",
              "      <th>265408</th>\n",
              "      <td>821664026</td>\n",
              "      <td>TOUT PRES DE CHEZ MOI</td>\n",
              "      <td>NaN</td>\n",
              "      <td>NaN</td>\n",
              "      <td>42110 Chambeon</td>\n",
              "      <td>Coopératives multisociétariales (SCIC)</td>\n",
              "      <td>True</td>\n",
              "    </tr>\n",
              "    <tr>\n",
              "      <th>265409</th>\n",
              "      <td>832995799</td>\n",
              "      <td>UNIVERSAL AMBULANCES</td>\n",
              "      <td>NaN</td>\n",
              "      <td>NaN</td>\n",
              "      <td>84000 Avignon</td>\n",
              "      <td>Coopératives multisociétariales (SCIC)</td>\n",
              "      <td>True</td>\n",
              "    </tr>\n",
              "    <tr>\n",
              "      <th>265410</th>\n",
              "      <td>843221326</td>\n",
              "      <td>UTOPIA SANTA MAGDALENA</td>\n",
              "      <td>NaN</td>\n",
              "      <td>NaN</td>\n",
              "      <td>31170 Tournefeuille</td>\n",
              "      <td>Sociétés coopératives et participatives (SCOP)</td>\n",
              "      <td>True</td>\n",
              "    </tr>\n",
              "    <tr>\n",
              "      <th>265411</th>\n",
              "      <td>842368763</td>\n",
              "      <td>VITAE FORMATION</td>\n",
              "      <td>NaN</td>\n",
              "      <td>NaN</td>\n",
              "      <td>49120 Chemille</td>\n",
              "      <td>Coopératives multisociétariales (SCIC)</td>\n",
              "      <td>True</td>\n",
              "    </tr>\n",
              "    <tr>\n",
              "      <th>265412</th>\n",
              "      <td>828983361</td>\n",
              "      <td>WINE CLUSTER</td>\n",
              "      <td>NaN</td>\n",
              "      <td>NaN</td>\n",
              "      <td>67200 Strasbourg</td>\n",
              "      <td>Coopératives multisociétariales (SCIC)</td>\n",
              "      <td>True</td>\n",
              "    </tr>\n",
              "  </tbody>\n",
              "</table>\n",
              "<p>265413 rows × 7 columns</p>\n",
              "</div>"
            ],
            "text/plain": [
              "        ess_N° IDENTITE ENTREPRISE (SIREN)  ...   ess\n",
              "0                                  5650148  ...  True\n",
              "1                                  5720610  ...  True\n",
              "2                                  5781133  ...  True\n",
              "3                                  5880679  ...  True\n",
              "4                                  6080170  ...  True\n",
              "...                                    ...  ...   ...\n",
              "265408                           821664026  ...  True\n",
              "265409                           832995799  ...  True\n",
              "265410                           843221326  ...  True\n",
              "265411                           842368763  ...  True\n",
              "265412                           828983361  ...  True\n",
              "\n",
              "[265413 rows x 7 columns]"
            ]
          },
          "metadata": {
            "tags": []
          },
          "execution_count": 17
        }
      ]
    },
    {
      "cell_type": "markdown",
      "metadata": {
        "id": "-pIBdeE9ZubC"
      },
      "source": [
        "for encoding in list(df_encoding.loc[19:,'Codec']):\n",
        "  try:\n",
        "    df_ess = pd.read_csv(chemin + 'listeess_ldds_vjuin2020_ok_2.csv', nrows=100, sep=';', encoding=encoding, error_bad_lines=False)\n",
        "    print('réussi :', encoding)\n",
        "    pass\n",
        "  except UnicodeDecodeError:\n",
        "    pass\n",
        "  except UnicodeDecodeError:\n",
        "    pass\n",
        "  else:\n",
        "    pass\n",
        "  finally:\n",
        "    pass"
      ]
    },
    {
      "cell_type": "markdown",
      "metadata": {
        "id": "ZM9KjHcQRVsz"
      },
      "source": [
        "# 3. Jointure de bundle, ape et identity"
      ]
    },
    {
      "cell_type": "code",
      "metadata": {
        "id": "AS9uE8C1RjvZ",
        "colab": {
          "base_uri": "https://localhost:8080/"
        },
        "outputId": "c22a687d-26c0-4c50-c177-f7ca0a5b50ab"
      },
      "source": [
        "# Jointure de identity et de ape\n",
        "identity_ape = identity.merge(ape, left_on='enthic', right_on='enthic', how='left')\n",
        "identity_ape.head()"
      ],
      "execution_count": null,
      "outputs": [
        {
          "output_type": "execute_result",
          "data": {
            "text/html": [
              "<div>\n",
              "<style scoped>\n",
              "    .dataframe tbody tr th:only-of-type {\n",
              "        vertical-align: middle;\n",
              "    }\n",
              "\n",
              "    .dataframe tbody tr th {\n",
              "        vertical-align: top;\n",
              "    }\n",
              "\n",
              "    .dataframe thead th {\n",
              "        text-align: right;\n",
              "    }\n",
              "</style>\n",
              "<table border=\"1\" class=\"dataframe\">\n",
              "  <thead>\n",
              "    <tr style=\"text-align: right;\">\n",
              "      <th></th>\n",
              "      <th>siren</th>\n",
              "      <th>denomination</th>\n",
              "      <th>enthic</th>\n",
              "      <th>postal_code</th>\n",
              "      <th>town</th>\n",
              "      <th>ape</th>\n",
              "      <th>ape_name</th>\n",
              "      <th>ape_len</th>\n",
              "      <th>ape_cat0</th>\n",
              "      <th>ape_cat1</th>\n",
              "      <th>ape_cat2</th>\n",
              "      <th>ape_cat3</th>\n",
              "      <th>ape_cat4</th>\n",
              "    </tr>\n",
              "  </thead>\n",
              "  <tbody>\n",
              "    <tr>\n",
              "      <th>0</th>\n",
              "      <td>5420120</td>\n",
              "      <td>STE DES SUCRERIES DU MARQUENTERRE</td>\n",
              "      <td>362</td>\n",
              "      <td>62140</td>\n",
              "      <td>MARCONNELLE</td>\n",
              "      <td>7010Z</td>\n",
              "      <td>Activités des sièges sociaux</td>\n",
              "      <td>5.0</td>\n",
              "      <td>70</td>\n",
              "      <td>1</td>\n",
              "      <td>0</td>\n",
              "      <td>Z</td>\n",
              "      <td></td>\n",
              "    </tr>\n",
              "    <tr>\n",
              "      <th>1</th>\n",
              "      <td>5450093</td>\n",
              "      <td>SARL BAS ALPINE D AUTOCARS</td>\n",
              "      <td>273</td>\n",
              "      <td>04800</td>\n",
              "      <td>GREOUX LES BAINS</td>\n",
              "      <td>4778C</td>\n",
              "      <td>Autres commerces de détail spécialisés divers</td>\n",
              "      <td>5.0</td>\n",
              "      <td>47</td>\n",
              "      <td>7</td>\n",
              "      <td>8</td>\n",
              "      <td>C</td>\n",
              "      <td></td>\n",
              "    </tr>\n",
              "    <tr>\n",
              "      <th>2</th>\n",
              "      <td>5450119</td>\n",
              "      <td>LE GRAND CAFE ET GASSENDI</td>\n",
              "      <td>1189</td>\n",
              "      <td>04000</td>\n",
              "      <td>DIGNE-LES-BAINS</td>\n",
              "      <td>5630Z</td>\n",
              "      <td>Débits de boissons</td>\n",
              "      <td>5.0</td>\n",
              "      <td>56</td>\n",
              "      <td>3</td>\n",
              "      <td>0</td>\n",
              "      <td>Z</td>\n",
              "      <td></td>\n",
              "    </tr>\n",
              "    <tr>\n",
              "      <th>3</th>\n",
              "      <td>5520176</td>\n",
              "      <td>HERNAS CARTONNAGES</td>\n",
              "      <td>1300</td>\n",
              "      <td>80210</td>\n",
              "      <td>FEUQUIERES-EN-VIMEU</td>\n",
              "      <td>1721A</td>\n",
              "      <td>Fabrication de carton ondulé</td>\n",
              "      <td>5.0</td>\n",
              "      <td>17</td>\n",
              "      <td>2</td>\n",
              "      <td>1</td>\n",
              "      <td>A</td>\n",
              "      <td></td>\n",
              "    </tr>\n",
              "    <tr>\n",
              "      <th>4</th>\n",
              "      <td>5520242</td>\n",
              "      <td>PROSPA</td>\n",
              "      <td>1566</td>\n",
              "      <td>80510</td>\n",
              "      <td>LONGPRE-LES-CORPS-SAINTS</td>\n",
              "      <td>2030Z</td>\n",
              "      <td>Fabrication de peintures, vernis, encres et ma...</td>\n",
              "      <td>5.0</td>\n",
              "      <td>20</td>\n",
              "      <td>3</td>\n",
              "      <td>0</td>\n",
              "      <td>Z</td>\n",
              "      <td></td>\n",
              "    </tr>\n",
              "  </tbody>\n",
              "</table>\n",
              "</div>"
            ],
            "text/plain": [
              "     siren                       denomination enthic  ... ape_cat2 ape_cat3 ape_cat4\n",
              "0  5420120  STE DES SUCRERIES DU MARQUENTERRE    362  ...        0        Z         \n",
              "1  5450093         SARL BAS ALPINE D AUTOCARS    273  ...        8        C         \n",
              "2  5450119          LE GRAND CAFE ET GASSENDI   1189  ...        0        Z         \n",
              "3  5520176                 HERNAS CARTONNAGES   1300  ...        1        A         \n",
              "4  5520242                             PROSPA   1566  ...        0        Z         \n",
              "\n",
              "[5 rows x 13 columns]"
            ]
          },
          "metadata": {
            "tags": []
          },
          "execution_count": 18
        }
      ]
    },
    {
      "cell_type": "code",
      "metadata": {
        "id": "6ULEmVHhamz9",
        "colab": {
          "base_uri": "https://localhost:8080/"
        },
        "outputId": "755d7544-aebf-47d7-f483-e93fb045237c"
      },
      "source": [
        "# Jointure de identity_ape et df_ess\n",
        "identity_ape_ess = identity_ape.merge(df_ess, left_on='siren', right_on='ess_N° IDENTITE ENTREPRISE (SIREN)', how='left')\n",
        "identity_ape_ess.head(5)"
      ],
      "execution_count": null,
      "outputs": [
        {
          "output_type": "execute_result",
          "data": {
            "text/html": [
              "<div>\n",
              "<style scoped>\n",
              "    .dataframe tbody tr th:only-of-type {\n",
              "        vertical-align: middle;\n",
              "    }\n",
              "\n",
              "    .dataframe tbody tr th {\n",
              "        vertical-align: top;\n",
              "    }\n",
              "\n",
              "    .dataframe thead th {\n",
              "        text-align: right;\n",
              "    }\n",
              "</style>\n",
              "<table border=\"1\" class=\"dataframe\">\n",
              "  <thead>\n",
              "    <tr style=\"text-align: right;\">\n",
              "      <th></th>\n",
              "      <th>siren</th>\n",
              "      <th>denomination</th>\n",
              "      <th>enthic</th>\n",
              "      <th>postal_code</th>\n",
              "      <th>town</th>\n",
              "      <th>ape</th>\n",
              "      <th>ape_name</th>\n",
              "      <th>ape_len</th>\n",
              "      <th>ape_cat0</th>\n",
              "      <th>ape_cat1</th>\n",
              "      <th>ape_cat2</th>\n",
              "      <th>ape_cat3</th>\n",
              "      <th>ape_cat4</th>\n",
              "      <th>ess_N° IDENTITE ENTREPRISE (SIREN)</th>\n",
              "      <th>ess_RAISON SOCIALE</th>\n",
              "      <th>ess_ENSEIGNE</th>\n",
              "      <th>ess_SIGLE</th>\n",
              "      <th>ess_CP VILLE</th>\n",
              "      <th>ess_FORME JURIDIQUE</th>\n",
              "      <th>ess</th>\n",
              "    </tr>\n",
              "  </thead>\n",
              "  <tbody>\n",
              "    <tr>\n",
              "      <th>0</th>\n",
              "      <td>5420120</td>\n",
              "      <td>STE DES SUCRERIES DU MARQUENTERRE</td>\n",
              "      <td>362</td>\n",
              "      <td>62140</td>\n",
              "      <td>MARCONNELLE</td>\n",
              "      <td>7010Z</td>\n",
              "      <td>Activités des sièges sociaux</td>\n",
              "      <td>5.0</td>\n",
              "      <td>70</td>\n",
              "      <td>1</td>\n",
              "      <td>0</td>\n",
              "      <td>Z</td>\n",
              "      <td></td>\n",
              "      <td>NaN</td>\n",
              "      <td>NaN</td>\n",
              "      <td>NaN</td>\n",
              "      <td>NaN</td>\n",
              "      <td>NaN</td>\n",
              "      <td>NaN</td>\n",
              "      <td>NaN</td>\n",
              "    </tr>\n",
              "    <tr>\n",
              "      <th>1</th>\n",
              "      <td>5450093</td>\n",
              "      <td>SARL BAS ALPINE D AUTOCARS</td>\n",
              "      <td>273</td>\n",
              "      <td>04800</td>\n",
              "      <td>GREOUX LES BAINS</td>\n",
              "      <td>4778C</td>\n",
              "      <td>Autres commerces de détail spécialisés divers</td>\n",
              "      <td>5.0</td>\n",
              "      <td>47</td>\n",
              "      <td>7</td>\n",
              "      <td>8</td>\n",
              "      <td>C</td>\n",
              "      <td></td>\n",
              "      <td>NaN</td>\n",
              "      <td>NaN</td>\n",
              "      <td>NaN</td>\n",
              "      <td>NaN</td>\n",
              "      <td>NaN</td>\n",
              "      <td>NaN</td>\n",
              "      <td>NaN</td>\n",
              "    </tr>\n",
              "    <tr>\n",
              "      <th>2</th>\n",
              "      <td>5450119</td>\n",
              "      <td>LE GRAND CAFE ET GASSENDI</td>\n",
              "      <td>1189</td>\n",
              "      <td>04000</td>\n",
              "      <td>DIGNE-LES-BAINS</td>\n",
              "      <td>5630Z</td>\n",
              "      <td>Débits de boissons</td>\n",
              "      <td>5.0</td>\n",
              "      <td>56</td>\n",
              "      <td>3</td>\n",
              "      <td>0</td>\n",
              "      <td>Z</td>\n",
              "      <td></td>\n",
              "      <td>NaN</td>\n",
              "      <td>NaN</td>\n",
              "      <td>NaN</td>\n",
              "      <td>NaN</td>\n",
              "      <td>NaN</td>\n",
              "      <td>NaN</td>\n",
              "      <td>NaN</td>\n",
              "    </tr>\n",
              "    <tr>\n",
              "      <th>3</th>\n",
              "      <td>5520176</td>\n",
              "      <td>HERNAS CARTONNAGES</td>\n",
              "      <td>1300</td>\n",
              "      <td>80210</td>\n",
              "      <td>FEUQUIERES-EN-VIMEU</td>\n",
              "      <td>1721A</td>\n",
              "      <td>Fabrication de carton ondulé</td>\n",
              "      <td>5.0</td>\n",
              "      <td>17</td>\n",
              "      <td>2</td>\n",
              "      <td>1</td>\n",
              "      <td>A</td>\n",
              "      <td></td>\n",
              "      <td>NaN</td>\n",
              "      <td>NaN</td>\n",
              "      <td>NaN</td>\n",
              "      <td>NaN</td>\n",
              "      <td>NaN</td>\n",
              "      <td>NaN</td>\n",
              "      <td>NaN</td>\n",
              "    </tr>\n",
              "    <tr>\n",
              "      <th>4</th>\n",
              "      <td>5520242</td>\n",
              "      <td>PROSPA</td>\n",
              "      <td>1566</td>\n",
              "      <td>80510</td>\n",
              "      <td>LONGPRE-LES-CORPS-SAINTS</td>\n",
              "      <td>2030Z</td>\n",
              "      <td>Fabrication de peintures, vernis, encres et ma...</td>\n",
              "      <td>5.0</td>\n",
              "      <td>20</td>\n",
              "      <td>3</td>\n",
              "      <td>0</td>\n",
              "      <td>Z</td>\n",
              "      <td></td>\n",
              "      <td>NaN</td>\n",
              "      <td>NaN</td>\n",
              "      <td>NaN</td>\n",
              "      <td>NaN</td>\n",
              "      <td>NaN</td>\n",
              "      <td>NaN</td>\n",
              "      <td>NaN</td>\n",
              "    </tr>\n",
              "  </tbody>\n",
              "</table>\n",
              "</div>"
            ],
            "text/plain": [
              "     siren                       denomination  ... ess_FORME JURIDIQUE  ess\n",
              "0  5420120  STE DES SUCRERIES DU MARQUENTERRE  ...                 NaN  NaN\n",
              "1  5450093         SARL BAS ALPINE D AUTOCARS  ...                 NaN  NaN\n",
              "2  5450119          LE GRAND CAFE ET GASSENDI  ...                 NaN  NaN\n",
              "3  5520176                 HERNAS CARTONNAGES  ...                 NaN  NaN\n",
              "4  5520242                             PROSPA  ...                 NaN  NaN\n",
              "\n",
              "[5 rows x 20 columns]"
            ]
          },
          "metadata": {
            "tags": []
          },
          "execution_count": 19
        }
      ]
    },
    {
      "cell_type": "code",
      "metadata": {
        "id": "Uy4MhsqzcJqK",
        "colab": {
          "base_uri": "https://localhost:8080/"
        },
        "outputId": "6746fec1-dd44-44cb-b8e1-69fa961d0677"
      },
      "source": [
        "identity_ape_ess['ess'].value_counts()"
      ],
      "execution_count": null,
      "outputs": [
        {
          "output_type": "execute_result",
          "data": {
            "text/plain": [
              "True    4836\n",
              "Name: ess, dtype: int64"
            ]
          },
          "metadata": {
            "tags": []
          },
          "execution_count": 20
        }
      ]
    },
    {
      "cell_type": "code",
      "metadata": {
        "id": "Y6jRoc1aRoEm",
        "colab": {
          "base_uri": "https://localhost:8080/"
        },
        "outputId": "ec301e2d-152b-4bea-aecf-49aac5046211"
      },
      "source": [
        "# Jointure de identity_ape et bundle\n",
        "data = bundle.merge(identity_ape_ess, left_on='siren', right_on='siren', how='left')\n",
        "data['ess'] = data['ess'].fillna(False)\n",
        "data.shape"
      ],
      "execution_count": null,
      "outputs": [
        {
          "output_type": "execute_result",
          "data": {
            "text/plain": [
              "(1294936, 89)"
            ]
          },
          "metadata": {
            "tags": []
          },
          "execution_count": 21
        }
      ]
    },
    {
      "cell_type": "code",
      "metadata": {
        "id": "lQ7HNfVGd7LU",
        "colab": {
          "base_uri": "https://localhost:8080/"
        },
        "outputId": "d0b9bd0b-6654-462a-9228-d9d472770c36"
      },
      "source": [
        "data['ess'].value_counts()"
      ],
      "execution_count": null,
      "outputs": [
        {
          "output_type": "execute_result",
          "data": {
            "text/plain": [
              "False    1286674\n",
              "True        8262\n",
              "Name: ess, dtype: int64"
            ]
          },
          "metadata": {
            "tags": []
          },
          "execution_count": 22
        }
      ]
    },
    {
      "cell_type": "markdown",
      "metadata": {
        "id": "2F6UWODjmIsl"
      },
      "source": [
        "# 4. Sauvegarde des données par catégorie"
      ]
    },
    {
      "cell_type": "code",
      "metadata": {
        "id": "KZIJcayrqTFO"
      },
      "source": [
        "#with open('/content/gdrive/My Drive/Impact Score/Export données par catégorie/data.xlsx', 'w') as f:\n",
        "data.to_csv(chemin + 'all_data.csv')"
      ],
      "execution_count": null,
      "outputs": []
    },
    {
      "cell_type": "code",
      "metadata": {
        "id": "KTd4qpyIjlse"
      },
      "source": [
        "\"\"\"for j in ['0' + str(i) for i in range(0,10)]+ [str(i) for i in list(range(10,data['ape_cat0'].dropna().astype(int).max() +1))]:\n",
        "  data[data['ape_cat0']==str(j)].to_excel('/content/gdrive/My Drive/Impact Score/Export données par catégorie/data{}.xlsx'.format(j))\n",
        "  print(j)\n",
        "  \"\"\""
      ],
      "execution_count": null,
      "outputs": []
    },
    {
      "cell_type": "markdown",
      "metadata": {
        "id": "y36FGGKaWFSa"
      },
      "source": [
        ""
      ]
    }
  ]
}